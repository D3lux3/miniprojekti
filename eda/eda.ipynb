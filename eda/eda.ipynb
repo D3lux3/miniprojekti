{
 "cells": [
  {
   "cell_type": "markdown",
   "metadata": {},
   "source": [
    "## EDA"
   ]
  },
  {
   "cell_type": "markdown",
   "metadata": {},
   "source": [
    "Add imports"
   ]
  },
  {
   "cell_type": "code",
   "execution_count": 29,
   "metadata": {},
   "outputs": [],
   "source": [
    "import pandas as pd\n",
    "import numpy as np\n",
    "import matplotlib.pyplot as plt\n",
    "import seaborn as sns"
   ]
  },
  {
   "cell_type": "markdown",
   "metadata": {},
   "source": [
    "### Read wrangled data and store into dataframe"
   ]
  },
  {
   "cell_type": "code",
   "execution_count": 22,
   "metadata": {},
   "outputs": [
    {
     "data": {
      "text/html": [
       "<div>\n",
       "<style scoped>\n",
       "    .dataframe tbody tr th:only-of-type {\n",
       "        vertical-align: middle;\n",
       "    }\n",
       "\n",
       "    .dataframe tbody tr th {\n",
       "        vertical-align: top;\n",
       "    }\n",
       "\n",
       "    .dataframe thead th {\n",
       "        text-align: right;\n",
       "    }\n",
       "</style>\n",
       "<table border=\"1\" class=\"dataframe\">\n",
       "  <thead>\n",
       "    <tr style=\"text-align: right;\">\n",
       "      <th></th>\n",
       "      <th>Video Id</th>\n",
       "      <th>Original Title</th>\n",
       "      <th>Title</th>\n",
       "      <th>Views</th>\n",
       "      <th>Length</th>\n",
       "      <th>Channel</th>\n",
       "      <th>Search word</th>\n",
       "      <th>Most watched</th>\n",
       "      <th>Uppercase Words</th>\n",
       "      <th>Lowercase Words</th>\n",
       "      <th>Capitalized Words</th>\n",
       "      <th>Word Count</th>\n",
       "    </tr>\n",
       "  </thead>\n",
       "  <tbody>\n",
       "    <tr>\n",
       "      <th>0</th>\n",
       "      <td>---AKxmFRWI</td>\n",
       "      <td>Dharmesh Yalande Sir Dance Bastar Dist Chhatti...</td>\n",
       "      <td>dharmesh yaland sir danc bastar dist chhattisg...</td>\n",
       "      <td>8867396</td>\n",
       "      <td>0.27</td>\n",
       "      <td>/@bastarfiles</td>\n",
       "      <td>['dist']</td>\n",
       "      <td>Y</td>\n",
       "      <td>0</td>\n",
       "      <td>0</td>\n",
       "      <td>13</td>\n",
       "      <td>13</td>\n",
       "    </tr>\n",
       "    <tr>\n",
       "      <th>1</th>\n",
       "      <td>---jp8dVvkY</td>\n",
       "      <td>Fed Will Likely Hike in September - Market Pul...</td>\n",
       "      <td>fed hike septemb market pul rufa kamau</td>\n",
       "      <td>144</td>\n",
       "      <td>26.55</td>\n",
       "      <td>/@FXPesa</td>\n",
       "      <td>['pulse']</td>\n",
       "      <td>N</td>\n",
       "      <td>0</td>\n",
       "      <td>2</td>\n",
       "      <td>9</td>\n",
       "      <td>11</td>\n",
       "    </tr>\n",
       "    <tr>\n",
       "      <th>2</th>\n",
       "      <td>--0HXqi8xTk</td>\n",
       "      <td>Hyundai i20 at 25% Discount</td>\n",
       "      <td>hyundai discount</td>\n",
       "      <td>798201</td>\n",
       "      <td>0.59</td>\n",
       "      <td>/@bekifaayati</td>\n",
       "      <td>['discounted']</td>\n",
       "      <td>Y</td>\n",
       "      <td>0</td>\n",
       "      <td>2</td>\n",
       "      <td>2</td>\n",
       "      <td>5</td>\n",
       "    </tr>\n",
       "    <tr>\n",
       "      <th>3</th>\n",
       "      <td>--0Qq5EmpGg</td>\n",
       "      <td>PSY - GANGNAM STYLE (CONVERSELY)</td>\n",
       "      <td>psi gangnam style conver</td>\n",
       "      <td>424</td>\n",
       "      <td>4.13</td>\n",
       "      <td>/@maxchet</td>\n",
       "      <td>['conversely']</td>\n",
       "      <td>N</td>\n",
       "      <td>4</td>\n",
       "      <td>0</td>\n",
       "      <td>0</td>\n",
       "      <td>4</td>\n",
       "    </tr>\n",
       "    <tr>\n",
       "      <th>4</th>\n",
       "      <td>--1bxl5E-u8</td>\n",
       "      <td>Firmly I Believe and Truly God is Three (Halto...</td>\n",
       "      <td>firmli god halton holgat</td>\n",
       "      <td>5143</td>\n",
       "      <td>1.29</td>\n",
       "      <td>/@AndrewRemillard</td>\n",
       "      <td>['firmly']</td>\n",
       "      <td>N</td>\n",
       "      <td>1</td>\n",
       "      <td>2</td>\n",
       "      <td>8</td>\n",
       "      <td>10</td>\n",
       "    </tr>\n",
       "  </tbody>\n",
       "</table>\n",
       "</div>"
      ],
      "text/plain": [
       "      Video Id                                     Original Title  \\\n",
       "0  ---AKxmFRWI  Dharmesh Yalande Sir Dance Bastar Dist Chhatti...   \n",
       "1  ---jp8dVvkY  Fed Will Likely Hike in September - Market Pul...   \n",
       "2  --0HXqi8xTk                        Hyundai i20 at 25% Discount   \n",
       "3  --0Qq5EmpGg                   PSY - GANGNAM STYLE (CONVERSELY)   \n",
       "4  --1bxl5E-u8  Firmly I Believe and Truly God is Three (Halto...   \n",
       "\n",
       "                                               Title    Views Length  \\\n",
       "0  dharmesh yaland sir danc bastar dist chhattisg...  8867396   0.27   \n",
       "1             fed hike septemb market pul rufa kamau      144  26.55   \n",
       "2                                   hyundai discount   798201   0.59   \n",
       "3                           psi gangnam style conver      424   4.13   \n",
       "4                           firmli god halton holgat     5143   1.29   \n",
       "\n",
       "             Channel     Search word Most watched  Uppercase Words  \\\n",
       "0      /@bastarfiles        ['dist']            Y                0   \n",
       "1           /@FXPesa       ['pulse']            N                0   \n",
       "2      /@bekifaayati  ['discounted']            Y                0   \n",
       "3          /@maxchet  ['conversely']            N                4   \n",
       "4  /@AndrewRemillard      ['firmly']            N                1   \n",
       "\n",
       "   Lowercase Words  Capitalized Words  Word Count  \n",
       "0                0                 13          13  \n",
       "1                2                  9          11  \n",
       "2                2                  2           5  \n",
       "3                0                  0           4  \n",
       "4                2                  8          10  "
      ]
     },
     "execution_count": 22,
     "metadata": {},
     "output_type": "execute_result"
    }
   ],
   "source": [
    "df = pd.read_csv(\"../wrangler/wrangled_data.csv\", encoding=\"utf-8\")\n",
    "df.head()"
   ]
  },
  {
   "cell_type": "code",
   "execution_count": 23,
   "metadata": {},
   "outputs": [
    {
     "name": "stdout",
     "output_type": "stream",
     "text": [
      "<class 'pandas.core.frame.DataFrame'>\n",
      "RangeIndex: 439393 entries, 0 to 439392\n",
      "Data columns (total 12 columns):\n",
      " #   Column             Non-Null Count   Dtype \n",
      "---  ------             --------------   ----- \n",
      " 0   Video Id           439393 non-null  object\n",
      " 1   Original Title     439393 non-null  object\n",
      " 2   Title              438843 non-null  object\n",
      " 3   Views              439393 non-null  int64 \n",
      " 4   Length             439393 non-null  object\n",
      " 5   Channel            439393 non-null  object\n",
      " 6   Search word        439393 non-null  object\n",
      " 7   Most watched       439393 non-null  object\n",
      " 8   Uppercase Words    439393 non-null  int64 \n",
      " 9   Lowercase Words    439393 non-null  int64 \n",
      " 10  Capitalized Words  439393 non-null  int64 \n",
      " 11  Word Count         439393 non-null  int64 \n",
      "dtypes: int64(5), object(7)\n",
      "memory usage: 40.2+ MB\n"
     ]
    }
   ],
   "source": [
    "df.info()"
   ]
  },
  {
   "cell_type": "markdown",
   "metadata": {},
   "source": [
    "Delete NaN titles. For some reason wrangler writes few empty Titles even they are supposed to be removed earlier"
   ]
  },
  {
   "cell_type": "code",
   "execution_count": 24,
   "metadata": {},
   "outputs": [
    {
     "name": "stdout",
     "output_type": "stream",
     "text": [
      "Video Id               0\n",
      "Original Title         0\n",
      "Title                550\n",
      "Views                  0\n",
      "Length                 0\n",
      "Channel                0\n",
      "Search word            0\n",
      "Most watched           0\n",
      "Uppercase Words        0\n",
      "Lowercase Words        0\n",
      "Capitalized Words      0\n",
      "Word Count             0\n",
      "dtype: int64\n"
     ]
    }
   ],
   "source": [
    "print(df.isna().sum())\n",
    "df.dropna(inplace=True)"
   ]
  },
  {
   "cell_type": "markdown",
   "metadata": {},
   "source": [
    "Plotting wordcount with views."
   ]
  },
  {
   "cell_type": "code",
   "execution_count": 25,
   "metadata": {},
   "outputs": [
    {
     "data": {
      "text/plain": [
       "<AxesSubplot:>"
      ]
     },
     "execution_count": 25,
     "metadata": {},
     "output_type": "execute_result"
    },
    {
     "data": {
      "image/png": "[encoded data removed]",
      "text/plain": [
       "<Figure size 432x288 with 2 Axes>"
      ]
     },
     "metadata": {
      "needs_background": "light"
     },
     "output_type": "display_data"
    }
   ],
   "source": [
    "columns_test = df[['Views','Word Count', 'Uppercase Words', 'Lowercase Words', 'Capitalized Words']]\n",
    "\n",
    "sns.heatmap(columns_test.corr(), cmap = \"YlGnBu\", annot=True, fmt=\".2f\")"
   ]
  },
  {
   "cell_type": "markdown",
   "metadata": {},
   "source": []
  },
  {
   "cell_type": "code",
   "execution_count": 26,
   "metadata": {},
   "outputs": [
    {
     "name": "stdout",
     "output_type": "stream",
     "text": [
      "Median views total:  905892.0\n",
      "Average/mean views total:  14688918.518317485\n",
      "Average/mean of average/mean views per word 15140081.173026128\n"
     ]
    }
   ],
   "source": [
    "print(\"Median views total: \", df[\"Views\"].median())\n",
    "print(\"Average/mean views total: \", df[\"Views\"].mean())\n",
    "\n",
    "d = {}\n",
    "\n",
    "TEST_LINES = 100000\n",
    "\n",
    "for _, row in df.iterrows():\n",
    "  TEST_LINES -= 1\n",
    "  if TEST_LINES == 0:\n",
    "    break\n",
    "  for w in row.Title.split():\n",
    "    if w in d:\n",
    "      t = d[w]\n",
    "      d[w] = (t[0] + row[\"Views\"], t[1] + 1)\n",
    "    else:\n",
    "      d[w] = (row[\"Views\"], 1)\n",
    "\n",
    "# print(d)\n",
    "\n",
    "d2 = {}\n",
    "\n",
    "sum_of_averages = 0\n",
    "\n",
    "for key, val in d.items():\n",
    "  ave = val[0] / val[1]\n",
    "  d2[key] = ave\n",
    "  sum_of_averages += ave\n",
    "\n",
    "# print(d2)\n",
    "\n",
    "ave_views_per_word = sum_of_averages / len(d2)\n",
    "print(\"Average/mean of average/mean views per word\", ave_views_per_word)\n",
    "\n",
    "\n",
    "sorted_d2 = dict(sorted(d2.items(), key=lambda item: item[1], reverse=True))\n",
    "\n",
    "# print(sorted_d2)"
   ]
  },
  {
   "cell_type": "code",
   "execution_count": 27,
   "metadata": {},
   "outputs": [
    {
     "name": "stdout",
     "output_type": "stream",
     "text": [
      "Highest 10 ave views words\n",
      "\n",
      "('bicicleta', 1616768813.0)\n",
      "('gaj', 1559330576.0)\n",
      "('daman', 1559330576.0)\n",
      "('jaji', 1559330576.0)\n",
      "('renuka', 1559330576.0)\n",
      "('queijo', 1514722351.0)\n",
      "('zaroori', 1502668195.0)\n",
      "('pillowtalk', 1181301044.0)\n",
      "('amarelinho', 1167446448.0)\n",
      "('gangnam', 1024085582.6)\n",
      "\n",
      "\n",
      "\n",
      "Lowest 10 ave views words\n",
      "\n",
      "('llwl', 1.0)\n",
      "('firstgov', 1.0)\n",
      "('heimdal', 1.0)\n",
      "('shivamsingh', 1.0)\n",
      "('myoneth', 2.0)\n",
      "('ivtool', 3.0)\n",
      "('dhonijadeja', 3.0)\n",
      "('psilocyben', 3.0)\n",
      "('microdo', 3.0)\n",
      "('jelsoft', 3.3333333333333335)\n"
     ]
    }
   ],
   "source": [
    "n = 10\n",
    "\n",
    "sorted_d2_list = list(sorted_d2.items())\n",
    "\n",
    "print(f\"Highest {n} ave views words\\n\")\n",
    "for i in range(n):\n",
    "  print(sorted_d2_list[i])\n",
    "\n",
    "print(\"\\n\\n\")\n",
    "\n",
    "print(f\"Lowest {n} ave views words\\n\")\n",
    "for i in range(n):\n",
    "  print(sorted_d2_list[len(sorted_d2_list) - i - 1])"
   ]
  },
  {
   "cell_type": "code",
   "execution_count": 30,
   "metadata": {},
   "outputs": [],
   "source": [
    "# d3 is hashmap of words with key=word, value=(average_views, z-index)\n",
    "# z-index is the mesurment of how much the value(average_views) deviates form the norm. The closer to zero the more average it is\n",
    "d3 = {}\n",
    "\n",
    "standard_deviation = np.std(df[\"Views\"])\n",
    "\n",
    "for key, val in d2.items():\n",
    "  z_index = (val - ave_views_per_word) / standard_deviation\n",
    "  d3[key] = (val, z_index)\n",
    "\n",
    "\n",
    "sorted_d3 = dict(sorted(d3.items(), key=lambda item: item[1], reverse=True))"
   ]
  },
  {
   "cell_type": "code",
   "execution_count": 31,
   "metadata": {},
   "outputs": [
    {
     "name": "stdout",
     "output_type": "stream",
     "text": [
      "Highest 10 ave views words\n",
      "\n",
      "('bicicleta', (1616768813.0, 28.24749551984912))\n",
      "('gaj', (1559330576.0, 27.2344727698921))\n",
      "('daman', (1559330576.0, 27.2344727698921))\n",
      "('jaji', (1559330576.0, 27.2344727698921))\n",
      "('renuka', (1559330576.0, 27.2344727698921))\n",
      "('queijo', (1514722351.0, 26.44772949362822))\n",
      "('zaroori', (1502668195.0, 26.23513358370273))\n",
      "('pillowtalk', (1181301044.0, 20.567267506060546))\n",
      "('amarelinho', (1167446448.0, 20.32291771970719))\n",
      "('gangnam', (1024085582.6, 17.794500663596537))\n",
      "\n",
      "\n",
      "\n",
      "Lowest 10 ave views words\n",
      "\n",
      "('llwl', (1.0, -0.2670215252506557))\n",
      "('firstgov', (1.0, -0.2670215252506557))\n",
      "('heimdal', (1.0, -0.2670215252506557))\n",
      "('shivamsingh', (1.0, -0.2670215252506557))\n",
      "('myoneth', (2.0, -0.26702150761392446))\n",
      "('ivtool', (3.0, -0.2670214899771932))\n",
      "('dhonijadeja', (3.0, -0.2670214899771932))\n",
      "('psilocyben', (3.0, -0.2670214899771932))\n",
      "('microdo', (3.0, -0.2670214899771932))\n",
      "('jelsoft', (3.3333333333333335, -0.2670214840982828))\n"
     ]
    }
   ],
   "source": [
    "sorted_d3_list = list(sorted_d3.items())\n",
    "\n",
    "print(f\"Highest {n} ave views words\\n\")\n",
    "for i in range(n):\n",
    "  print(sorted_d3_list[i])\n",
    "\n",
    "print(\"\\n\\n\")\n",
    "\n",
    "print(f\"Lowest {n} ave views words\\n\")\n",
    "for i in range(n):\n",
    "  print(sorted_d3_list[len(sorted_d2_list) - i - 1])"
   ]
  }
 ],
 "metadata": {
  "kernelspec": {
   "display_name": "Python 3",
   "language": "python",
   "name": "python3"
  },
  "language_info": {
   "codemirror_mode": {
    "name": "ipython",
    "version": 3
   },
   "file_extension": ".py",
   "mimetype": "text/x-python",
   "name": "python",
   "nbconvert_exporter": "python",
   "pygments_lexer": "ipython3",
   "version": "3.10.12"
  }
 },
 "nbformat": 4,
 "nbformat_minor": 2
}
