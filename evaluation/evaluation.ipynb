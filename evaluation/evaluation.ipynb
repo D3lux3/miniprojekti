{
 "cells": [
  {
   "cell_type": "markdown",
   "metadata": {},
   "source": [
    "## Title rank evaluation"
   ]
  },
  {
   "cell_type": "markdown",
   "metadata": {},
   "source": [
    "Add imports"
   ]
  },
  {
   "cell_type": "code",
   "execution_count": 10,
   "metadata": {},
   "outputs": [],
   "source": [
    "import pandas as pd\n",
    "import numpy as np\n",
    "import matplotlib.pyplot as plt\n",
    "import re\n",
    "import csv\n",
    "from nltk.stem.porter import *\n",
    "import matplotlib.pyplot as plt\n",
    "\n",
    "stemmer = PorterStemmer()"
   ]
  },
  {
   "cell_type": "markdown",
   "metadata": {},
   "source": [
    "### Read wrangled data and store into dataframe"
   ]
  },
  {
   "cell_type": "code",
   "execution_count": 15,
   "metadata": {},
   "outputs": [
    {
     "data": {
      "text/html": [
       "<div>\n",
       "<style scoped>\n",
       "    .dataframe tbody tr th:only-of-type {\n",
       "        vertical-align: middle;\n",
       "    }\n",
       "\n",
       "    .dataframe tbody tr th {\n",
       "        vertical-align: top;\n",
       "    }\n",
       "\n",
       "    .dataframe thead th {\n",
       "        text-align: right;\n",
       "    }\n",
       "</style>\n",
       "<table border=\"1\" class=\"dataframe\">\n",
       "  <thead>\n",
       "    <tr style=\"text-align: right;\">\n",
       "      <th></th>\n",
       "      <th>Original Title</th>\n",
       "      <th>Views</th>\n",
       "    </tr>\n",
       "  </thead>\n",
       "  <tbody>\n",
       "    <tr>\n",
       "      <th>0</th>\n",
       "      <td>Dharmesh Yalande Sir Dance Bastar Dist Chhatti...</td>\n",
       "      <td>8867396</td>\n",
       "    </tr>\n",
       "    <tr>\n",
       "      <th>1</th>\n",
       "      <td>Fed Will Likely Hike in September - Market Pul...</td>\n",
       "      <td>144</td>\n",
       "    </tr>\n",
       "    <tr>\n",
       "      <th>2</th>\n",
       "      <td>Hyundai i20 at 25% Discount</td>\n",
       "      <td>798201</td>\n",
       "    </tr>\n",
       "    <tr>\n",
       "      <th>3</th>\n",
       "      <td>PSY - GANGNAM STYLE (CONVERSELY)</td>\n",
       "      <td>424</td>\n",
       "    </tr>\n",
       "    <tr>\n",
       "      <th>4</th>\n",
       "      <td>Firmly I Believe and Truly God is Three (Halto...</td>\n",
       "      <td>5143</td>\n",
       "    </tr>\n",
       "  </tbody>\n",
       "</table>\n",
       "</div>"
      ],
      "text/plain": [
       "                                      Original Title    Views\n",
       "0  Dharmesh Yalande Sir Dance Bastar Dist Chhatti...  8867396\n",
       "1  Fed Will Likely Hike in September - Market Pul...      144\n",
       "2                        Hyundai i20 at 25% Discount   798201\n",
       "3                   PSY - GANGNAM STYLE (CONVERSELY)      424\n",
       "4  Firmly I Believe and Truly God is Three (Halto...     5143"
      ]
     },
     "execution_count": 15,
     "metadata": {},
     "output_type": "execute_result"
    }
   ],
   "source": [
    "file_paths = [\"../wrangler/wrangled_data_part1.csv\", \"../wrangler/wrangled_data_part2.csv\"]\n",
    "\n",
    "df = pd.concat([pd.read_csv(path) for path in file_paths], ignore_index=True)\n",
    "df.dropna(inplace=True)\n",
    "df_rank = df[[\"Original Title\", \"Views\"]].copy()\n",
    "df_rank.head()"
   ]
  },
  {
   "cell_type": "markdown",
   "metadata": {},
   "source": [
    "Ranking function and init word rank dict."
   ]
  },
  {
   "cell_type": "code",
   "execution_count": 11,
   "metadata": {},
   "outputs": [],
   "source": [
    "with open(\"../eda/word_rank.csv\", mode=\"r\") as file:\n",
    "    r = csv.reader(file)\n",
    "    word_rank = {row[0]: float(row[1]) for row in r}\n",
    "\n",
    "def rank_title(input):\n",
    "    input = re.sub(r\"[^\\w\\s]\", \"\", input.lower()) # remove punctuations and change to lower\n",
    "    stemmed_words = [stemmer.stem(word) for word in str(input).split()] # stemming\n",
    "    return round(sum(word_rank.get(word, 0) for word in stemmed_words) / len(stemmed_words), 2)"
   ]
  },
  {
   "cell_type": "markdown",
   "metadata": {},
   "source": [
    "Create word rank col"
   ]
  },
  {
   "cell_type": "code",
   "execution_count": 16,
   "metadata": {},
   "outputs": [],
   "source": [
    "df_rank[\"Rank\"] = df[\"Original Title\"].apply(rank_title)"
   ]
  },
  {
   "cell_type": "code",
   "execution_count": 21,
   "metadata": {},
   "outputs": [
    {
     "data": {
      "text/html": [
       "<div>\n",
       "<style scoped>\n",
       "    .dataframe tbody tr th:only-of-type {\n",
       "        vertical-align: middle;\n",
       "    }\n",
       "\n",
       "    .dataframe tbody tr th {\n",
       "        vertical-align: top;\n",
       "    }\n",
       "\n",
       "    .dataframe thead th {\n",
       "        text-align: right;\n",
       "    }\n",
       "</style>\n",
       "<table border=\"1\" class=\"dataframe\">\n",
       "  <thead>\n",
       "    <tr style=\"text-align: right;\">\n",
       "      <th></th>\n",
       "      <th>Views</th>\n",
       "      <th>Rank</th>\n",
       "    </tr>\n",
       "  </thead>\n",
       "  <tbody>\n",
       "    <tr>\n",
       "      <th>count</th>\n",
       "      <td>4.388430e+05</td>\n",
       "      <td>438843.000000</td>\n",
       "    </tr>\n",
       "    <tr>\n",
       "      <th>mean</th>\n",
       "      <td>1.468892e+07</td>\n",
       "      <td>0.119474</td>\n",
       "    </tr>\n",
       "    <tr>\n",
       "      <th>std</th>\n",
       "      <td>5.669991e+07</td>\n",
       "      <td>0.182274</td>\n",
       "    </tr>\n",
       "    <tr>\n",
       "      <th>min</th>\n",
       "      <td>1.000000e+00</td>\n",
       "      <td>-1.000000</td>\n",
       "    </tr>\n",
       "    <tr>\n",
       "      <th>25%</th>\n",
       "      <td>8.177200e+04</td>\n",
       "      <td>0.020000</td>\n",
       "    </tr>\n",
       "    <tr>\n",
       "      <th>50%</th>\n",
       "      <td>9.058920e+05</td>\n",
       "      <td>0.130000</td>\n",
       "    </tr>\n",
       "    <tr>\n",
       "      <th>75%</th>\n",
       "      <td>8.611300e+06</td>\n",
       "      <td>0.230000</td>\n",
       "    </tr>\n",
       "    <tr>\n",
       "      <th>max</th>\n",
       "      <td>4.971686e+09</td>\n",
       "      <td>1.000000</td>\n",
       "    </tr>\n",
       "  </tbody>\n",
       "</table>\n",
       "</div>"
      ],
      "text/plain": [
       "              Views           Rank\n",
       "count  4.388430e+05  438843.000000\n",
       "mean   1.468892e+07       0.119474\n",
       "std    5.669991e+07       0.182274\n",
       "min    1.000000e+00      -1.000000\n",
       "25%    8.177200e+04       0.020000\n",
       "50%    9.058920e+05       0.130000\n",
       "75%    8.611300e+06       0.230000\n",
       "max    4.971686e+09       1.000000"
      ]
     },
     "execution_count": 21,
     "metadata": {},
     "output_type": "execute_result"
    }
   ],
   "source": [
    "df_rank.describe()"
   ]
  },
  {
   "cell_type": "markdown",
   "metadata": {},
   "source": [
    "Plot results"
   ]
  },
  {
   "cell_type": "code",
   "execution_count": 23,
   "metadata": {},
   "outputs": [
    {
     "data": {
      "image/png": "[encoded data removed]",
      "text/plain": [
       "<Figure size 432x288 with 1 Axes>"
      ]
     },
     "metadata": {
      "needs_background": "light"
     },
     "output_type": "display_data"
    }
   ],
   "source": [
    "plt.scatter(df_rank[\"Views\"], df_rank[\"Rank\"])\n",
    "plt.xlabel(\"Views\")\n",
    "plt.ylabel(\"Rank value\")\n",
    "plt.show()"
   ]
  },
  {
   "cell_type": "markdown",
   "metadata": {},
   "source": [
    "Check correlation between Views and Rank"
   ]
  },
  {
   "cell_type": "code",
   "execution_count": 33,
   "metadata": {},
   "outputs": [
    {
     "name": "stdout",
     "output_type": "stream",
     "text": [
      "Pearson: 0.19185373222157762, Spearman: 0.36727460506060117\n"
     ]
    }
   ],
   "source": [
    "pearson_corr = df_rank[\"Views\"].corr(df_rank[\"Rank\"], method=\"pearson\")\n",
    "spearman_corr = df_rank[\"Views\"].corr(df_rank[\"Rank\"], method=\"spearman\")\n",
    "\n",
    "print(f\"Pearson: {pearson_corr}, Spearman: {spearman_corr}\")"
   ]
  },
  {
   "cell_type": "markdown",
   "metadata": {},
   "source": [
    "Plot heatmap"
   ]
  },
  {
   "cell_type": "code",
   "execution_count": 27,
   "metadata": {},
   "outputs": [
    {
     "data": {
      "image/png": "[encoded data removed]",
      "text/plain": [
       "<Figure size 576x432 with 2 Axes>"
      ]
     },
     "metadata": {
      "needs_background": "light"
     },
     "output_type": "display_data"
    }
   ],
   "source": [
    "plt.figure(figsize=(8, 6))\n",
    "sns.heatmap(df_rank[[\"Views\", \"Rank\"]].corr(), annot=True, cmap=\"coolwarm\")\n",
    "plt.show()\n"
   ]
  },
  {
   "cell_type": "markdown",
   "metadata": {},
   "source": [
    "Iterate through dataframe and compare views and values with random row."
   ]
  },
  {
   "cell_type": "code",
   "execution_count": 30,
   "metadata": {},
   "outputs": [],
   "source": [
    "TEST_SIZE = 10000\n",
    "sampled_df = df_rank.sample(n=TEST_SIZE)\n",
    "\n",
    "def compare(row):\n",
    "  random_row = df_rank.sample(n=1).iloc[0]\n",
    "  compare_views = row[\"Views\"] > random_row[\"Views\"]\n",
    "  compare_rank = row[\"Rank\"] > random_row[\"Rank\"]\n",
    "\n",
    "  return 1 if compare_views == compare_rank else 0\n",
    "\n",
    "sampled_df[\"Comparison\"] = sampled_df.apply(compare, axis=1)\n",
    "correct_ranks = sampled_df[\"Comparison\"].sum()"
   ]
  },
  {
   "cell_type": "markdown",
   "metadata": {},
   "source": [
    "Check results"
   ]
  },
  {
   "cell_type": "code",
   "execution_count": 32,
   "metadata": {},
   "outputs": [
    {
     "name": "stdout",
     "output_type": "stream",
     "text": [
      "Test samples from the dataframe: 10000\n",
      "Ranking was right 6193 out of 10000\n",
      "Correction rate: 61.9%\n"
     ]
    }
   ],
   "source": [
    "print(f\"Test samples from the dataframe: {TEST_SIZE}\")\n",
    "print(f\"Ranking was right {correct_ranks} out of {TEST_SIZE}\")\n",
    "print(f\"Correction rate: {correct_ranks/TEST_SIZE*100:.1f}%\")"
   ]
  }
 ],
 "metadata": {
  "kernelspec": {
   "display_name": "Python 3",
   "language": "python",
   "name": "python3"
  },
  "language_info": {
   "codemirror_mode": {
    "name": "ipython",
    "version": 3
   },
   "file_extension": ".py",
   "mimetype": "text/x-python",
   "name": "python",
   "nbconvert_exporter": "python",
   "pygments_lexer": "ipython3",
   "version": "3.10.12"
  }
 },
 "nbformat": 4,
 "nbformat_minor": 2
}
